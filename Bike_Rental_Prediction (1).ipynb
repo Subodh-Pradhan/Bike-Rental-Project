{
 "cells": [
  {
   "cell_type": "code",
   "execution_count": 1,
   "metadata": {},
   "outputs": [],
   "source": [
    "########## IMPORT LIBRARIES ###########\n",
    "import pandas as pd # For data pre-processing and model developement\n",
    "import os # for input output operation \n",
    "import numpy as np # for linear algebric functions and numerical operations with python\n",
    "import matplotlib.pyplot as plt # for visualization and plttoing\n",
    "import seaborn as sns # for plotting \n",
    "from scipy import stats # for statistical operation\n",
    "from scipy.stats import chi2_contingency # For chi-square test\n",
    "from sklearn.ensemble import RandomForestRegressor\n",
    "%matplotlib inline"
   ]
  },
  {
   "cell_type": "code",
   "execution_count": 2,
   "metadata": {},
   "outputs": [],
   "source": [
    "# set working directory\n",
    "os.chdir(\"D:\\edwiser\\Project\")"
   ]
  },
  {
   "cell_type": "code",
   "execution_count": 3,
   "metadata": {},
   "outputs": [
    {
     "data": {
      "text/plain": [
       "'D:\\\\edwiser\\\\Project'"
      ]
     },
     "execution_count": 3,
     "metadata": {},
     "output_type": "execute_result"
    }
   ],
   "source": [
    "# check working directory\n",
    "os.getcwd()"
   ]
  },
  {
   "cell_type": "code",
   "execution_count": 4,
   "metadata": {},
   "outputs": [],
   "source": [
    "#Import data\n",
    "df_day= pd.read_csv(\"day.csv\")"
   ]
  },
  {
   "cell_type": "code",
   "execution_count": 5,
   "metadata": {
    "scrolled": true
   },
   "outputs": [
    {
     "data": {
      "text/html": [
       "<div>\n",
       "<style scoped>\n",
       "    .dataframe tbody tr th:only-of-type {\n",
       "        vertical-align: middle;\n",
       "    }\n",
       "\n",
       "    .dataframe tbody tr th {\n",
       "        vertical-align: top;\n",
       "    }\n",
       "\n",
       "    .dataframe thead th {\n",
       "        text-align: right;\n",
       "    }\n",
       "</style>\n",
       "<table border=\"1\" class=\"dataframe\">\n",
       "  <thead>\n",
       "    <tr style=\"text-align: right;\">\n",
       "      <th></th>\n",
       "      <th>instant</th>\n",
       "      <th>dteday</th>\n",
       "      <th>season</th>\n",
       "      <th>yr</th>\n",
       "      <th>mnth</th>\n",
       "      <th>holiday</th>\n",
       "      <th>weekday</th>\n",
       "      <th>workingday</th>\n",
       "      <th>weathersit</th>\n",
       "      <th>temp</th>\n",
       "      <th>atemp</th>\n",
       "      <th>hum</th>\n",
       "      <th>windspeed</th>\n",
       "      <th>casual</th>\n",
       "      <th>registered</th>\n",
       "      <th>cnt</th>\n",
       "    </tr>\n",
       "  </thead>\n",
       "  <tbody>\n",
       "    <tr>\n",
       "      <th>0</th>\n",
       "      <td>1</td>\n",
       "      <td>2011-01-01</td>\n",
       "      <td>1</td>\n",
       "      <td>0</td>\n",
       "      <td>1</td>\n",
       "      <td>0</td>\n",
       "      <td>6</td>\n",
       "      <td>0</td>\n",
       "      <td>2</td>\n",
       "      <td>0.344167</td>\n",
       "      <td>0.363625</td>\n",
       "      <td>0.805833</td>\n",
       "      <td>0.160446</td>\n",
       "      <td>331</td>\n",
       "      <td>654</td>\n",
       "      <td>985</td>\n",
       "    </tr>\n",
       "    <tr>\n",
       "      <th>1</th>\n",
       "      <td>2</td>\n",
       "      <td>2011-01-02</td>\n",
       "      <td>1</td>\n",
       "      <td>0</td>\n",
       "      <td>1</td>\n",
       "      <td>0</td>\n",
       "      <td>0</td>\n",
       "      <td>0</td>\n",
       "      <td>2</td>\n",
       "      <td>0.363478</td>\n",
       "      <td>0.353739</td>\n",
       "      <td>0.696087</td>\n",
       "      <td>0.248539</td>\n",
       "      <td>131</td>\n",
       "      <td>670</td>\n",
       "      <td>801</td>\n",
       "    </tr>\n",
       "    <tr>\n",
       "      <th>2</th>\n",
       "      <td>3</td>\n",
       "      <td>2011-01-03</td>\n",
       "      <td>1</td>\n",
       "      <td>0</td>\n",
       "      <td>1</td>\n",
       "      <td>0</td>\n",
       "      <td>1</td>\n",
       "      <td>1</td>\n",
       "      <td>1</td>\n",
       "      <td>0.196364</td>\n",
       "      <td>0.189405</td>\n",
       "      <td>0.437273</td>\n",
       "      <td>0.248309</td>\n",
       "      <td>120</td>\n",
       "      <td>1229</td>\n",
       "      <td>1349</td>\n",
       "    </tr>\n",
       "    <tr>\n",
       "      <th>3</th>\n",
       "      <td>4</td>\n",
       "      <td>2011-01-04</td>\n",
       "      <td>1</td>\n",
       "      <td>0</td>\n",
       "      <td>1</td>\n",
       "      <td>0</td>\n",
       "      <td>2</td>\n",
       "      <td>1</td>\n",
       "      <td>1</td>\n",
       "      <td>0.200000</td>\n",
       "      <td>0.212122</td>\n",
       "      <td>0.590435</td>\n",
       "      <td>0.160296</td>\n",
       "      <td>108</td>\n",
       "      <td>1454</td>\n",
       "      <td>1562</td>\n",
       "    </tr>\n",
       "    <tr>\n",
       "      <th>4</th>\n",
       "      <td>5</td>\n",
       "      <td>2011-01-05</td>\n",
       "      <td>1</td>\n",
       "      <td>0</td>\n",
       "      <td>1</td>\n",
       "      <td>0</td>\n",
       "      <td>3</td>\n",
       "      <td>1</td>\n",
       "      <td>1</td>\n",
       "      <td>0.226957</td>\n",
       "      <td>0.229270</td>\n",
       "      <td>0.436957</td>\n",
       "      <td>0.186900</td>\n",
       "      <td>82</td>\n",
       "      <td>1518</td>\n",
       "      <td>1600</td>\n",
       "    </tr>\n",
       "  </tbody>\n",
       "</table>\n",
       "</div>"
      ],
      "text/plain": [
       "   instant      dteday  season  yr  mnth  holiday  weekday  workingday  \\\n",
       "0        1  2011-01-01       1   0     1        0        6           0   \n",
       "1        2  2011-01-02       1   0     1        0        0           0   \n",
       "2        3  2011-01-03       1   0     1        0        1           1   \n",
       "3        4  2011-01-04       1   0     1        0        2           1   \n",
       "4        5  2011-01-05       1   0     1        0        3           1   \n",
       "\n",
       "   weathersit      temp     atemp       hum  windspeed  casual  registered  \\\n",
       "0           2  0.344167  0.363625  0.805833   0.160446     331         654   \n",
       "1           2  0.363478  0.353739  0.696087   0.248539     131         670   \n",
       "2           1  0.196364  0.189405  0.437273   0.248309     120        1229   \n",
       "3           1  0.200000  0.212122  0.590435   0.160296     108        1454   \n",
       "4           1  0.226957  0.229270  0.436957   0.186900      82        1518   \n",
       "\n",
       "    cnt  \n",
       "0   985  \n",
       "1   801  \n",
       "2  1349  \n",
       "3  1562  \n",
       "4  1600  "
      ]
     },
     "execution_count": 5,
     "metadata": {},
     "output_type": "execute_result"
    }
   ],
   "source": [
    "#print the data\n",
    "df_day.head()"
   ]
  },
  {
   "cell_type": "code",
   "execution_count": 6,
   "metadata": {},
   "outputs": [
    {
     "data": {
      "text/plain": [
       "(731, 16)"
      ]
     },
     "execution_count": 6,
     "metadata": {},
     "output_type": "execute_result"
    }
   ],
   "source": [
    "########################################### Exploratory data Analysis ##############################################\n",
    "# The number of rows and columns present in the data frame\n",
    "df_day.shape "
   ]
  },
  {
   "cell_type": "code",
   "execution_count": 7,
   "metadata": {},
   "outputs": [
    {
     "name": "stdout",
     "output_type": "stream",
     "text": [
      "<class 'pandas.core.frame.DataFrame'>\n",
      "RangeIndex: 731 entries, 0 to 730\n",
      "Data columns (total 16 columns):\n",
      "instant       731 non-null int64\n",
      "dteday        731 non-null object\n",
      "season        731 non-null int64\n",
      "yr            731 non-null int64\n",
      "mnth          731 non-null int64\n",
      "holiday       731 non-null int64\n",
      "weekday       731 non-null int64\n",
      "workingday    731 non-null int64\n",
      "weathersit    731 non-null int64\n",
      "temp          731 non-null float64\n",
      "atemp         731 non-null float64\n",
      "hum           731 non-null float64\n",
      "windspeed     731 non-null float64\n",
      "casual        731 non-null int64\n",
      "registered    731 non-null int64\n",
      "cnt           731 non-null int64\n",
      "dtypes: float64(4), int64(11), object(1)\n",
      "memory usage: 91.5+ KB\n"
     ]
    }
   ],
   "source": [
    "#here we have 731 observations and 16 variables\n",
    "# out of 16 variables 15 are independent and one is dependent variable\n",
    "df_day.info() # Description of variables in the data set 'df_day'"
   ]
  },
  {
   "cell_type": "code",
   "execution_count": 8,
   "metadata": {},
   "outputs": [],
   "source": [
    "# In the dataset the catagorical variavles are in integer format so we will convert it into factor numeric\n",
    "df_day['season']= df_day['season'].astype('object')\n",
    "df_day['yr']=df_day['yr'].astype('object')\n",
    "df_day['mnth']=df_day['mnth'].astype('object')\n",
    "df_day['holiday']=df_day['holiday'].astype('object')\n",
    "df_day['workingday']=df_day['workingday'].astype('object')\n",
    "df_day['weekday']=df_day['weekday'].astype('object')\n",
    "df_day['weathersit']=df_day['weathersit'].astype('object')"
   ]
  },
  {
   "cell_type": "code",
   "execution_count": 9,
   "metadata": {},
   "outputs": [],
   "source": [
    "# extracting date of the month from the dteday\n",
    "# We saw that hthe ariable 'dteday' is in object format so we have to convert the dteday into propor datetime format\n",
    "df_day['dteday'] = pd.to_datetime(df_day['dteday'])\n",
    "# Extracting day\n",
    "df_day['dteday'] = df_day.dteday.dt.day\n",
    "df_day['dteday'] = df_day['dteday'].astype('object')"
   ]
  },
  {
   "cell_type": "code",
   "execution_count": 10,
   "metadata": {},
   "outputs": [
    {
     "data": {
      "text/html": [
       "<div>\n",
       "<style scoped>\n",
       "    .dataframe tbody tr th:only-of-type {\n",
       "        vertical-align: middle;\n",
       "    }\n",
       "\n",
       "    .dataframe tbody tr th {\n",
       "        vertical-align: top;\n",
       "    }\n",
       "\n",
       "    .dataframe thead th {\n",
       "        text-align: right;\n",
       "    }\n",
       "</style>\n",
       "<table border=\"1\" class=\"dataframe\">\n",
       "  <thead>\n",
       "    <tr style=\"text-align: right;\">\n",
       "      <th></th>\n",
       "      <th>instant</th>\n",
       "      <th>dteday</th>\n",
       "      <th>season</th>\n",
       "      <th>yr</th>\n",
       "      <th>mnth</th>\n",
       "      <th>holiday</th>\n",
       "      <th>weekday</th>\n",
       "      <th>workingday</th>\n",
       "      <th>weathersit</th>\n",
       "      <th>temp</th>\n",
       "      <th>atemp</th>\n",
       "      <th>hum</th>\n",
       "      <th>windspeed</th>\n",
       "      <th>casual</th>\n",
       "      <th>registered</th>\n",
       "      <th>cnt</th>\n",
       "    </tr>\n",
       "  </thead>\n",
       "  <tbody>\n",
       "    <tr>\n",
       "      <th>0</th>\n",
       "      <td>1</td>\n",
       "      <td>1</td>\n",
       "      <td>1</td>\n",
       "      <td>0</td>\n",
       "      <td>1</td>\n",
       "      <td>0</td>\n",
       "      <td>6</td>\n",
       "      <td>0</td>\n",
       "      <td>2</td>\n",
       "      <td>0.344167</td>\n",
       "      <td>0.363625</td>\n",
       "      <td>0.805833</td>\n",
       "      <td>0.160446</td>\n",
       "      <td>331</td>\n",
       "      <td>654</td>\n",
       "      <td>985</td>\n",
       "    </tr>\n",
       "    <tr>\n",
       "      <th>1</th>\n",
       "      <td>2</td>\n",
       "      <td>2</td>\n",
       "      <td>1</td>\n",
       "      <td>0</td>\n",
       "      <td>1</td>\n",
       "      <td>0</td>\n",
       "      <td>0</td>\n",
       "      <td>0</td>\n",
       "      <td>2</td>\n",
       "      <td>0.363478</td>\n",
       "      <td>0.353739</td>\n",
       "      <td>0.696087</td>\n",
       "      <td>0.248539</td>\n",
       "      <td>131</td>\n",
       "      <td>670</td>\n",
       "      <td>801</td>\n",
       "    </tr>\n",
       "    <tr>\n",
       "      <th>2</th>\n",
       "      <td>3</td>\n",
       "      <td>3</td>\n",
       "      <td>1</td>\n",
       "      <td>0</td>\n",
       "      <td>1</td>\n",
       "      <td>0</td>\n",
       "      <td>1</td>\n",
       "      <td>1</td>\n",
       "      <td>1</td>\n",
       "      <td>0.196364</td>\n",
       "      <td>0.189405</td>\n",
       "      <td>0.437273</td>\n",
       "      <td>0.248309</td>\n",
       "      <td>120</td>\n",
       "      <td>1229</td>\n",
       "      <td>1349</td>\n",
       "    </tr>\n",
       "    <tr>\n",
       "      <th>3</th>\n",
       "      <td>4</td>\n",
       "      <td>4</td>\n",
       "      <td>1</td>\n",
       "      <td>0</td>\n",
       "      <td>1</td>\n",
       "      <td>0</td>\n",
       "      <td>2</td>\n",
       "      <td>1</td>\n",
       "      <td>1</td>\n",
       "      <td>0.200000</td>\n",
       "      <td>0.212122</td>\n",
       "      <td>0.590435</td>\n",
       "      <td>0.160296</td>\n",
       "      <td>108</td>\n",
       "      <td>1454</td>\n",
       "      <td>1562</td>\n",
       "    </tr>\n",
       "    <tr>\n",
       "      <th>4</th>\n",
       "      <td>5</td>\n",
       "      <td>5</td>\n",
       "      <td>1</td>\n",
       "      <td>0</td>\n",
       "      <td>1</td>\n",
       "      <td>0</td>\n",
       "      <td>3</td>\n",
       "      <td>1</td>\n",
       "      <td>1</td>\n",
       "      <td>0.226957</td>\n",
       "      <td>0.229270</td>\n",
       "      <td>0.436957</td>\n",
       "      <td>0.186900</td>\n",
       "      <td>82</td>\n",
       "      <td>1518</td>\n",
       "      <td>1600</td>\n",
       "    </tr>\n",
       "  </tbody>\n",
       "</table>\n",
       "</div>"
      ],
      "text/plain": [
       "   instant dteday season yr mnth holiday weekday workingday weathersit  \\\n",
       "0        1      1      1  0    1       0       6          0          2   \n",
       "1        2      2      1  0    1       0       0          0          2   \n",
       "2        3      3      1  0    1       0       1          1          1   \n",
       "3        4      4      1  0    1       0       2          1          1   \n",
       "4        5      5      1  0    1       0       3          1          1   \n",
       "\n",
       "       temp     atemp       hum  windspeed  casual  registered   cnt  \n",
       "0  0.344167  0.363625  0.805833   0.160446     331         654   985  \n",
       "1  0.363478  0.353739  0.696087   0.248539     131         670   801  \n",
       "2  0.196364  0.189405  0.437273   0.248309     120        1229  1349  \n",
       "3  0.200000  0.212122  0.590435   0.160296     108        1454  1562  \n",
       "4  0.226957  0.229270  0.436957   0.186900      82        1518  1600  "
      ]
     },
     "execution_count": 10,
     "metadata": {},
     "output_type": "execute_result"
    }
   ],
   "source": [
    "df_day.head()"
   ]
  },
  {
   "cell_type": "code",
   "execution_count": 11,
   "metadata": {},
   "outputs": [
    {
     "name": "stdout",
     "output_type": "stream",
     "text": [
      "<class 'pandas.core.frame.DataFrame'>\n",
      "RangeIndex: 731 entries, 0 to 730\n",
      "Data columns (total 16 columns):\n",
      "instant       731 non-null int64\n",
      "dteday        731 non-null object\n",
      "season        731 non-null object\n",
      "yr            731 non-null object\n",
      "mnth          731 non-null object\n",
      "holiday       731 non-null object\n",
      "weekday       731 non-null object\n",
      "workingday    731 non-null object\n",
      "weathersit    731 non-null object\n",
      "temp          731 non-null float64\n",
      "atemp         731 non-null float64\n",
      "hum           731 non-null float64\n",
      "windspeed     731 non-null float64\n",
      "casual        731 non-null int64\n",
      "registered    731 non-null int64\n",
      "cnt           731 non-null int64\n",
      "dtypes: float64(4), int64(4), object(8)\n",
      "memory usage: 91.5+ KB\n"
     ]
    }
   ],
   "source": [
    "# Description of variables in the data set 'df_day' after type conversion\n",
    "df_day.info()"
   ]
  },
  {
   "cell_type": "code",
   "execution_count": 12,
   "metadata": {},
   "outputs": [],
   "source": [
    "# In the data set we can see that the target variable 'cnt' is the sum of the variables 'casual' and 'registered'\n",
    "# since we have to predict the total count which is 'cnt', we can remove the 'casual' and 'registered' from the data set 'df_day'\n",
    "# we can remove 'instant' which is nothing but a index/serial number\n",
    "# In the attributes 'holiday' and 'workingday', we can say that holiday is a subset of workingday because if it is  a holiday,\n",
    "# then it is not workingday and vice-versa. so we can remove holiday from the dataset.\n",
    "\n",
    "# Removing variables ['casual','registered','instant','holiday'] from the data set day.\n",
    "df_day = df_day.drop(['casual','registered','instant','holiday'], axis=1)"
   ]
  },
  {
   "cell_type": "code",
   "execution_count": 13,
   "metadata": {},
   "outputs": [
    {
     "data": {
      "text/plain": [
       "Index(['dteday', 'season', 'yr', 'mnth', 'weekday', 'workingday', 'weathersit',\n",
       "       'temp', 'atemp', 'hum', 'windspeed', 'cnt'],\n",
       "      dtype='object')"
      ]
     },
     "execution_count": 13,
     "metadata": {},
     "output_type": "execute_result"
    }
   ],
   "source": [
    "df_day.columns"
   ]
  },
  {
   "cell_type": "code",
   "execution_count": 14,
   "metadata": {},
   "outputs": [],
   "source": [
    "# Now we have the numerical variables['temp','atemp','hum','windspeed','cnt'] and the rest are catagorical"
   ]
  },
  {
   "cell_type": "code",
   "execution_count": 14,
   "metadata": {},
   "outputs": [
    {
     "data": {
      "text/plain": [
       "count     731.000000\n",
       "mean     4504.348837\n",
       "std      1937.211452\n",
       "min        22.000000\n",
       "25%      3152.000000\n",
       "50%      4548.000000\n",
       "75%      5956.000000\n",
       "max      8714.000000\n",
       "Name: cnt, dtype: float64"
      ]
     },
     "execution_count": 14,
     "metadata": {},
     "output_type": "execute_result"
    }
   ],
   "source": [
    "                  ######Distribution and behaviour of variables#######\n",
    "# Summary of the target variable cnt\n",
    "df_day['cnt'].describe()"
   ]
  },
  {
   "cell_type": "code",
   "execution_count": 15,
   "metadata": {},
   "outputs": [
    {
     "data": {
      "text/plain": [
       "Text(0.5, 0.98, 'Distribution of cnt')"
      ]
     },
     "execution_count": 15,
     "metadata": {},
     "output_type": "execute_result"
    },
    {
     "data": {
      "image/png": "[encoded data removed]",
      "text/plain": [
       "<Figure size 432x288 with 1 Axes>"
      ]
     },
     "metadata": {
      "needs_background": "light"
     },
     "output_type": "display_data"
    }
   ],
   "source": [
    "# normality of cnt\n",
    "sns.distplot(df_day['cnt'])\n",
    "plt.suptitle(\"Distribution of cnt\")"
   ]
  },
  {
   "cell_type": "code",
   "execution_count": 16,
   "metadata": {},
   "outputs": [
    {
     "name": "stdout",
     "output_type": "stream",
     "text": [
      "skewness = -0.04735278011900183 kurtosis= -0.8119223847191548\n"
     ]
    }
   ],
   "source": [
    "skewness = df_day['cnt'].skew()\n",
    "kurtosis = df_day['cnt'].kurt()\n",
    "print('skewness =',skewness,'kurtosis=', kurtosis)"
   ]
  },
  {
   "cell_type": "code",
   "execution_count": 17,
   "metadata": {},
   "outputs": [],
   "source": [
    "#From the skewness we can see that cnt is negatively skewed"
   ]
  },
  {
   "cell_type": "code",
   "execution_count": 18,
   "metadata": {},
   "outputs": [
    {
     "data": {
      "text/plain": [
       "Text(0.5, 0.98, 'Distribution of temp')"
      ]
     },
     "execution_count": 18,
     "metadata": {},
     "output_type": "execute_result"
    },
    {
     "data": {
      "image/png": "[encoded data removed]",
      "text/plain": [
       "<Figure size 432x288 with 1 Axes>"
      ]
     },
     "metadata": {
      "needs_background": "light"
     },
     "output_type": "display_data"
    }
   ],
   "source": [
    "#check the normality of the numerical independet variables['temp', 'atemp', 'hum', 'windspeed']\n",
    "sns.distplot(df_day['temp'])\n",
    "plt.suptitle(\"Distribution of temp\")"
   ]
  },
  {
   "cell_type": "code",
   "execution_count": 19,
   "metadata": {},
   "outputs": [
    {
     "name": "stdout",
     "output_type": "stream",
     "text": [
      "skewness = -0.054520964760408255 kurtosis= -1.1188641545735662\n"
     ]
    }
   ],
   "source": [
    "skewness = df_day['temp'].skew()\n",
    "kurtosis = df_day['temp'].kurt()\n",
    "print('skewness =',skewness,'kurtosis=', kurtosis)"
   ]
  },
  {
   "cell_type": "code",
   "execution_count": 20,
   "metadata": {},
   "outputs": [],
   "source": [
    "# temp is also negatively skewed since skewness is less that zero"
   ]
  },
  {
   "cell_type": "code",
   "execution_count": 21,
   "metadata": {},
   "outputs": [
    {
     "data": {
      "text/plain": [
       "Text(0.5, 0.98, 'Distribution of atemp')"
      ]
     },
     "execution_count": 21,
     "metadata": {},
     "output_type": "execute_result"
    },
    {
     "data": {
      "image/png": "[encoded data removed]",
      "text/plain": [
       "<Figure size 432x288 with 1 Axes>"
      ]
     },
     "metadata": {
      "needs_background": "light"
     },
     "output_type": "display_data"
    }
   ],
   "source": [
    "sns.distplot(df_day['atemp'])\n",
    "plt.suptitle(\"Distribution of atemp\")"
   ]
  },
  {
   "cell_type": "code",
   "execution_count": 22,
   "metadata": {},
   "outputs": [
    {
     "name": "stdout",
     "output_type": "stream",
     "text": [
      "skewness = -0.13108804205446004 kurtosis= -0.9851305305195086\n"
     ]
    }
   ],
   "source": [
    "skewness = df_day['atemp'].skew()\n",
    "kurtosis = df_day['atemp'].kurt()\n",
    "print('skewness =',skewness,'kurtosis=', kurtosis)"
   ]
  },
  {
   "cell_type": "code",
   "execution_count": 23,
   "metadata": {},
   "outputs": [
    {
     "data": {
      "text/plain": [
       "Text(0.5, 0.98, 'Distribution of hum')"
      ]
     },
     "execution_count": 23,
     "metadata": {},
     "output_type": "execute_result"
    },
    {
     "data": {
      "image/png": "[encoded data removed]",
      "text/plain": [
       "<Figure size 432x288 with 1 Axes>"
      ]
     },
     "metadata": {
      "needs_background": "light"
     },
     "output_type": "display_data"
    }
   ],
   "source": [
    "sns.distplot(df_day['hum'])\n",
    "plt.suptitle(\"Distribution of hum\")"
   ]
  },
  {
   "cell_type": "code",
   "execution_count": 24,
   "metadata": {},
   "outputs": [
    {
     "name": "stdout",
     "output_type": "stream",
     "text": [
      "skewness = -0.0697834339909521 kurtosis= -0.06453013469388669\n"
     ]
    }
   ],
   "source": [
    "skewness = df_day['hum'].skew()\n",
    "kurtosis = df_day['hum'].kurt()\n",
    "print('skewness =',skewness,'kurtosis=', kurtosis)"
   ]
  },
  {
   "cell_type": "code",
   "execution_count": 25,
   "metadata": {},
   "outputs": [
    {
     "data": {
      "text/plain": [
       "Text(0.5, 0.98, 'Distribution of windspeed')"
      ]
     },
     "execution_count": 25,
     "metadata": {},
     "output_type": "execute_result"
    },
    {
     "data": {
      "image/png": "[encoded data removed]",
      "text/plain": [
       "<Figure size 432x288 with 1 Axes>"
      ]
     },
     "metadata": {
      "needs_background": "light"
     },
     "output_type": "display_data"
    }
   ],
   "source": [
    "sns.distplot(df_day['windspeed'])\n",
    "plt.suptitle(\"Distribution of windspeed\")"
   ]
  },
  {
   "cell_type": "code",
   "execution_count": 26,
   "metadata": {},
   "outputs": [
    {
     "name": "stdout",
     "output_type": "stream",
     "text": [
      "skewness = 0.6773454211095377 kurtosis= 0.4109222677315345\n"
     ]
    }
   ],
   "source": [
    "skewness = df_day['windspeed'].skew()\n",
    "kurtosis = df_day['windspeed'].kurt()\n",
    "print('skewness =',skewness,'kurtosis=', kurtosis)"
   ]
  },
  {
   "cell_type": "code",
   "execution_count": 28,
   "metadata": {},
   "outputs": [],
   "source": [
    "# windspeed is positively skewed since skewness is >0"
   ]
  },
  {
   "cell_type": "code",
   "execution_count": 29,
   "metadata": {},
   "outputs": [],
   "source": [
    "#from the above plots we saw that all the numerical variables except windspeed is negatively skewed.\n",
    "# it seems that outliers are present in these variables.\n",
    "# we will remove that outliers in outlier analysis step."
   ]
  },
  {
   "cell_type": "code",
   "execution_count": 27,
   "metadata": {},
   "outputs": [
    {
     "data": {
      "text/plain": [
       "Text(0, 0.5, 'Count')"
      ]
     },
     "execution_count": 27,
     "metadata": {},
     "output_type": "execute_result"
    },
    {
     "data": {
      "image/png": "[encoded data removed]",
      "text/plain": [
       "<Figure size 432x288 with 1 Axes>"
      ]
     },
     "metadata": {
      "needs_background": "light"
     },
     "output_type": "display_data"
    }
   ],
   "source": [
    "###########Relation between numerical variables and target variable 'cnt' ####################\n",
    "# now we will check the relationship between numerical(idependent) and target variable 'cnt' through scatter plot\n",
    "#Relation between 'temp' and 'cnt'\n",
    "plt.scatter(df_day['temp'], df_day['cnt'])\n",
    "plt.suptitle('Cnt vs temp')\n",
    "plt.xlabel('temp')\n",
    "plt.ylabel('Count')"
   ]
  },
  {
   "cell_type": "code",
   "execution_count": 28,
   "metadata": {},
   "outputs": [
    {
     "data": {
      "text/plain": [
       "Text(0, 0.5, 'count')"
      ]
     },
     "execution_count": 28,
     "metadata": {},
     "output_type": "execute_result"
    },
    {
     "data": {
      "image/png": "[encoded data removed]",
      "text/plain": [
       "<Figure size 432x288 with 1 Axes>"
      ]
     },
     "metadata": {
      "needs_background": "light"
     },
     "output_type": "display_data"
    }
   ],
   "source": [
    "#Relation between 'atemp' and 'cnt'\n",
    "plt.scatter(df_day['atemp'],df_day['cnt'])\n",
    "plt.suptitle('cnt vs atemp')\n",
    "plt.xlabel('atemp')\n",
    "plt.ylabel('count')"
   ]
  },
  {
   "cell_type": "code",
   "execution_count": 29,
   "metadata": {},
   "outputs": [
    {
     "data": {
      "text/plain": [
       "Text(0, 0.5, 'count')"
      ]
     },
     "execution_count": 29,
     "metadata": {},
     "output_type": "execute_result"
    },
    {
     "data": {
      "image/png": "[encoded data removed]",
      "text/plain": [
       "<Figure size 432x288 with 1 Axes>"
      ]
     },
     "metadata": {
      "needs_background": "light"
     },
     "output_type": "display_data"
    }
   ],
   "source": [
    "#Relation between 'hum' and 'cnt'\n",
    "plt.scatter(df_day['hum'],df_day['cnt'])\n",
    "plt.suptitle('cnt vs hmidity')\n",
    "plt.xlabel('humidity')\n",
    "plt.ylabel('count')"
   ]
  },
  {
   "cell_type": "code",
   "execution_count": 30,
   "metadata": {},
   "outputs": [
    {
     "data": {
      "text/plain": [
       "Text(0, 0.5, 'count')"
      ]
     },
     "execution_count": 30,
     "metadata": {},
     "output_type": "execute_result"
    },
    {
     "data": {
      "image/png": "[encoded data removed]",
      "text/plain": [
       "<Figure size 432x288 with 1 Axes>"
      ]
     },
     "metadata": {
      "needs_background": "light"
     },
     "output_type": "display_data"
    }
   ],
   "source": [
    "#Relation between 'windspeed' and 'cnt'\n",
    "plt.scatter(df_day['windspeed'],df_day['cnt'])\n",
    "plt.suptitle('cnt vs windspeed')\n",
    "plt.xlabel('windspeed')\n",
    "plt.ylabel('count')"
   ]
  },
  {
   "cell_type": "code",
   "execution_count": 31,
   "metadata": {},
   "outputs": [
    {
     "data": {
      "text/plain": [
       "[Text(0, 0, 'spring'),\n",
       " Text(0, 0, 'sumer'),\n",
       " Text(0, 0, 'fall'),\n",
       " Text(0, 0, 'winter')]"
      ]
     },
     "execution_count": 31,
     "metadata": {},
     "output_type": "execute_result"
    },
    {
     "data": {
      "image/png": "[encoded data removed]",
      "text/plain": [
       "<Figure size 576x432 with 1 Axes>"
      ]
     },
     "metadata": {
      "needs_background": "light"
     },
     "output_type": "display_data"
    }
   ],
   "source": [
    "# now we will check the relationship between catagorical variables and the dependent varible cnt\n",
    "# Relationship between season and cnt\n",
    "data = pd.concat([df_day['cnt'], df_day['season']], axis=1)\n",
    "f, ax = plt.subplots(figsize=(8, 6))\n",
    "fig = sns.boxplot(x= 'season', y=\"cnt\", data=data)\n",
    "plt.suptitle('season vs count')\n",
    "ax.set_xticklabels(['spring','sumer','fall','winter'])"
   ]
  },
  {
   "cell_type": "code",
   "execution_count": 32,
   "metadata": {},
   "outputs": [
    {
     "data": {
      "text/plain": [
       "[Text(0, 0, '0: holiday'), Text(0, 0, '1: workingday')]"
      ]
     },
     "execution_count": 32,
     "metadata": {},
     "output_type": "execute_result"
    },
    {
     "data": {
      "image/png": "[encoded data removed]",
      "text/plain": [
       "<Figure size 576x432 with 1 Axes>"
      ]
     },
     "metadata": {
      "needs_background": "light"
     },
     "output_type": "display_data"
    }
   ],
   "source": [
    "# Relation between count vs workingday/holiday\n",
    "data = pd.concat([df_day['workingday'],df_day['cnt']], axis =1)\n",
    "f, ax = plt.subplots(figsize = (8,6))\n",
    "fig = sns.boxplot(x='workingday', y= 'cnt', data= data)\n",
    "plt.suptitle('count vs workingday/holiday')\n",
    "ax.set_xticklabels(['0: holiday','1: workingday'])"
   ]
  },
  {
   "cell_type": "code",
   "execution_count": 33,
   "metadata": {},
   "outputs": [
    {
     "data": {
      "text/plain": [
       "[Text(0, 0, '1: Clear'), Text(0, 0, '2: Mist'), Text(0, 0, '3: Light Snow')]"
      ]
     },
     "execution_count": 33,
     "metadata": {},
     "output_type": "execute_result"
    },
    {
     "data": {
      "image/png": "[encoded data removed]",
      "text/plain": [
       "<Figure size 576x432 with 1 Axes>"
      ]
     },
     "metadata": {
      "needs_background": "light"
     },
     "output_type": "display_data"
    }
   ],
   "source": [
    "# relation between weathersit and count\n",
    "data = pd.concat([df_day['cnt'],df_day['weathersit']], axis = 1)\n",
    "f, ax = plt.subplots(figsize = (8,6))\n",
    "fig = sns.boxplot(x= 'weathersit', y= 'cnt', data = data)\n",
    "plt.suptitle('weathersit vs count')\n",
    "ax.set_xticklabels(['1: Clear','2: Mist','3: Light Snow','4: Heavy Rain'])"
   ]
  },
  {
   "cell_type": "code",
   "execution_count": 34,
   "metadata": {},
   "outputs": [
    {
     "data": {
      "text/plain": [
       "[Text(0, 0, '0:sunday'),\n",
       " Text(0, 0, '1:monday'),\n",
       " Text(0, 0, 'tuesday'),\n",
       " Text(0, 0, '3:wednesday'),\n",
       " Text(0, 0, '4:thursday'),\n",
       " Text(0, 0, '5:friday'),\n",
       " Text(0, 0, '6:saturday')]"
      ]
     },
     "execution_count": 34,
     "metadata": {},
     "output_type": "execute_result"
    },
    {
     "data": {
      "image/png": "[encoded data removed]",
      "text/plain": [
       "<Figure size 576x432 with 1 Axes>"
      ]
     },
     "metadata": {
      "needs_background": "light"
     },
     "output_type": "display_data"
    }
   ],
   "source": [
    "#counts of bike rental based on weekdays\n",
    "data = pd.concat([df_day['cnt'],df_day['weekday']], axis = 1)\n",
    "f, ax = plt.subplots(figsize = (8,6))\n",
    "fig= sns.boxplot(x= 'weekday', y= 'cnt', data = data)\n",
    "plt.suptitle('counts based on weekday')\n",
    "ax.set_xticklabels(['0:sunday','1:monday','tuesday','3:wednesday','4:thursday','5:friday','6:saturday'])"
   ]
  },
  {
   "cell_type": "code",
   "execution_count": 35,
   "metadata": {},
   "outputs": [
    {
     "data": {
      "text/plain": [
       "[Text(0, 0, '0:2011'), Text(0, 0, '1:2012')]"
      ]
     },
     "execution_count": 35,
     "metadata": {},
     "output_type": "execute_result"
    },
    {
     "data": {
      "image/png": "[encoded data removed]",
      "text/plain": [
       "<Figure size 576x432 with 1 Axes>"
      ]
     },
     "metadata": {
      "needs_background": "light"
     },
     "output_type": "display_data"
    }
   ],
   "source": [
    "# Yearly counts of bike rental \n",
    "data = pd.concat([df_day['cnt'],df_day['yr']], axis = 1)\n",
    "f, ax = plt.subplots(figsize = (8,6))\n",
    "fig= sns.boxplot(x= 'yr', y= 'cnt', data = data)\n",
    "plt.suptitle('Yearly counts')\n",
    "ax.set_xticklabels(['0:2011','1:2012'])"
   ]
  },
  {
   "cell_type": "code",
   "execution_count": 36,
   "metadata": {},
   "outputs": [
    {
     "data": {
      "text/plain": [
       "[Text(0, 0, '1:jan'),\n",
       " Text(0, 0, '2:feb'),\n",
       " Text(0, 0, '3:mar'),\n",
       " Text(0, 0, '4:april'),\n",
       " Text(0, 0, '5:may'),\n",
       " Text(0, 0, '6:june'),\n",
       " Text(0, 0, '7:july'),\n",
       " Text(0, 0, '8:aug'),\n",
       " Text(0, 0, '9:sept'),\n",
       " Text(0, 0, '10:oct'),\n",
       " Text(0, 0, '11:nov'),\n",
       " Text(0, 0, '12:dec')]"
      ]
     },
     "execution_count": 36,
     "metadata": {},
     "output_type": "execute_result"
    },
    {
     "data": {
      "image/png": "[encoded data removed]",
      "text/plain": [
       "<Figure size 576x432 with 1 Axes>"
      ]
     },
     "metadata": {
      "needs_background": "light"
     },
     "output_type": "display_data"
    }
   ],
   "source": [
    "#counts based on months \n",
    "data = pd.concat([df_day['cnt'],df_day['mnth']], axis = 1)\n",
    "f, ax = plt.subplots(figsize = (8,6))\n",
    "fig= sns.boxplot(x= 'mnth', y= 'cnt', data = data)\n",
    "plt.suptitle('counts based on months')\n",
    "ax.set_xticklabels(['1:jan','2:feb','3:mar','4:april','5:may','6:june','7:july','8:aug','9:sept','10:oct','11:nov','12:dec'])"
   ]
  },
  {
   "cell_type": "code",
   "execution_count": 37,
   "metadata": {},
   "outputs": [],
   "source": [
    "################################# Missing Value Analysis #########################################\n",
    "miss_val = pd.DataFrame(df_day.isnull().sum())\n",
    "miss_val = (miss_val/len(df_day))*100\n",
    "miss_val.reset_index()\n",
    "miss_val = miss_val.rename(columns= {'index':'variables', 0:'missing percentage'})"
   ]
  },
  {
   "cell_type": "code",
   "execution_count": 38,
   "metadata": {},
   "outputs": [
    {
     "data": {
      "text/html": [
       "<div>\n",
       "<style scoped>\n",
       "    .dataframe tbody tr th:only-of-type {\n",
       "        vertical-align: middle;\n",
       "    }\n",
       "\n",
       "    .dataframe tbody tr th {\n",
       "        vertical-align: top;\n",
       "    }\n",
       "\n",
       "    .dataframe thead th {\n",
       "        text-align: right;\n",
       "    }\n",
       "</style>\n",
       "<table border=\"1\" class=\"dataframe\">\n",
       "  <thead>\n",
       "    <tr style=\"text-align: right;\">\n",
       "      <th></th>\n",
       "      <th>missing percentage</th>\n",
       "    </tr>\n",
       "  </thead>\n",
       "  <tbody>\n",
       "    <tr>\n",
       "      <th>dteday</th>\n",
       "      <td>0.0</td>\n",
       "    </tr>\n",
       "    <tr>\n",
       "      <th>season</th>\n",
       "      <td>0.0</td>\n",
       "    </tr>\n",
       "    <tr>\n",
       "      <th>yr</th>\n",
       "      <td>0.0</td>\n",
       "    </tr>\n",
       "    <tr>\n",
       "      <th>mnth</th>\n",
       "      <td>0.0</td>\n",
       "    </tr>\n",
       "    <tr>\n",
       "      <th>weekday</th>\n",
       "      <td>0.0</td>\n",
       "    </tr>\n",
       "    <tr>\n",
       "      <th>workingday</th>\n",
       "      <td>0.0</td>\n",
       "    </tr>\n",
       "    <tr>\n",
       "      <th>weathersit</th>\n",
       "      <td>0.0</td>\n",
       "    </tr>\n",
       "    <tr>\n",
       "      <th>temp</th>\n",
       "      <td>0.0</td>\n",
       "    </tr>\n",
       "    <tr>\n",
       "      <th>atemp</th>\n",
       "      <td>0.0</td>\n",
       "    </tr>\n",
       "    <tr>\n",
       "      <th>hum</th>\n",
       "      <td>0.0</td>\n",
       "    </tr>\n",
       "    <tr>\n",
       "      <th>windspeed</th>\n",
       "      <td>0.0</td>\n",
       "    </tr>\n",
       "    <tr>\n",
       "      <th>cnt</th>\n",
       "      <td>0.0</td>\n",
       "    </tr>\n",
       "  </tbody>\n",
       "</table>\n",
       "</div>"
      ],
      "text/plain": [
       "            missing percentage\n",
       "dteday                     0.0\n",
       "season                     0.0\n",
       "yr                         0.0\n",
       "mnth                       0.0\n",
       "weekday                    0.0\n",
       "workingday                 0.0\n",
       "weathersit                 0.0\n",
       "temp                       0.0\n",
       "atemp                      0.0\n",
       "hum                        0.0\n",
       "windspeed                  0.0\n",
       "cnt                        0.0"
      ]
     },
     "execution_count": 38,
     "metadata": {},
     "output_type": "execute_result"
    }
   ],
   "source": [
    "miss_val"
   ]
  },
  {
   "cell_type": "code",
   "execution_count": 42,
   "metadata": {},
   "outputs": [],
   "source": [
    "# There is no missing value in the dataset df_day. so we don't need to impute or remove any value"
   ]
  },
  {
   "cell_type": "code",
   "execution_count": 39,
   "metadata": {},
   "outputs": [
    {
     "data": {
      "text/plain": [
       "Text(0.5, 0.98, 'cnt')"
      ]
     },
     "execution_count": 39,
     "metadata": {},
     "output_type": "execute_result"
    },
    {
     "data": {
      "image/png": "[encoded data removed]",
      "text/plain": [
       "<Figure size 432x288 with 1 Axes>"
      ]
     },
     "metadata": {
      "needs_background": "light"
     },
     "output_type": "display_data"
    }
   ],
   "source": [
    "######################################## Outlier Analysis ########################################################\n",
    "# Now we will check for outliers in the numerical variables by ploting boxplot\n",
    "# boxplot for cnt \n",
    "plt.boxplot(df_day['cnt'])\n",
    "plt.suptitle(\"cnt\")"
   ]
  },
  {
   "cell_type": "code",
   "execution_count": 40,
   "metadata": {},
   "outputs": [
    {
     "data": {
      "text/plain": [
       "Text(0.5, 0.98, 'temp')"
      ]
     },
     "execution_count": 40,
     "metadata": {},
     "output_type": "execute_result"
    },
    {
     "data": {
      "image/png": "[encoded data removed]",
      "text/plain": [
       "<Figure size 432x288 with 1 Axes>"
      ]
     },
     "metadata": {
      "needs_background": "light"
     },
     "output_type": "display_data"
    }
   ],
   "source": [
    "\n",
    "# boxplot for temp variable \n",
    "plt.boxplot(df_day['temp'])\n",
    "plt.suptitle(\"temp\")"
   ]
  },
  {
   "cell_type": "code",
   "execution_count": 41,
   "metadata": {},
   "outputs": [
    {
     "data": {
      "text/plain": [
       "Text(0.5, 0.98, 'atemp')"
      ]
     },
     "execution_count": 41,
     "metadata": {},
     "output_type": "execute_result"
    },
    {
     "data": {
      "image/png": "[encoded data removed]",
      "text/plain": [
       "<Figure size 432x288 with 1 Axes>"
      ]
     },
     "metadata": {
      "needs_background": "light"
     },
     "output_type": "display_data"
    }
   ],
   "source": [
    "# Boxplot for atemp variable\n",
    "plt.boxplot(df_day['atemp'])\n",
    "plt.suptitle('atemp')"
   ]
  },
  {
   "cell_type": "code",
   "execution_count": 42,
   "metadata": {},
   "outputs": [
    {
     "data": {
      "text/plain": [
       "Text(0.5, 0.98, 'hum')"
      ]
     },
     "execution_count": 42,
     "metadata": {},
     "output_type": "execute_result"
    },
    {
     "data": {
      "image/png": "[encoded data removed]",
      "text/plain": [
       "<Figure size 432x288 with 1 Axes>"
      ]
     },
     "metadata": {
      "needs_background": "light"
     },
     "output_type": "display_data"
    }
   ],
   "source": [
    "#boxplot for hum\n",
    "plt.boxplot(df_day['hum'])\n",
    "plt.suptitle('hum')"
   ]
  },
  {
   "cell_type": "code",
   "execution_count": 43,
   "metadata": {},
   "outputs": [
    {
     "data": {
      "text/plain": [
       "Text(0.5, 0.98, 'windspeed')"
      ]
     },
     "execution_count": 43,
     "metadata": {},
     "output_type": "execute_result"
    },
    {
     "data": {
      "image/png": "[encoded data removed]",
      "text/plain": [
       "<Figure size 432x288 with 1 Axes>"
      ]
     },
     "metadata": {
      "needs_background": "light"
     },
     "output_type": "display_data"
    }
   ],
   "source": [
    "# boxplot for windspeed\n",
    "plt.boxplot(df_day['windspeed'])\n",
    "plt.suptitle('windspeed')"
   ]
  },
  {
   "cell_type": "code",
   "execution_count": 44,
   "metadata": {},
   "outputs": [
    {
     "name": "stdout",
     "output_type": "stream",
     "text": [
      "temp\n",
      "-0.14041600000000015\n",
      "1.1329160000000003\n",
      "atemp\n",
      "-0.06829675000000018\n",
      "1.0147412500000002\n",
      "hum\n",
      "0.20468725\n",
      "1.0455212500000002\n",
      "windspeed\n",
      "-0.012446750000000034\n",
      "0.38061125\n"
     ]
    }
   ],
   "source": [
    "# Above plots shows that there are some negatve outliers present in humidiy and positive outliers in windspeed\n",
    "# we'll detect and remove the outliers frome these variables.\n",
    "cnames = ['temp','atemp','hum','windspeed']\n",
    "for i in cnames:\n",
    "    print(i)\n",
    "    q75,q25 = np.percentile(df_day.loc[:,i],[75,25])\n",
    "    iqr = q75-q25 \n",
    "    min = q25 - (iqr*1.5)\n",
    "    max = q75 + (iqr*1.5)\n",
    "    print(min)\n",
    "    print(max)"
   ]
  },
  {
   "cell_type": "code",
   "execution_count": 45,
   "metadata": {},
   "outputs": [],
   "source": [
    "# drop those observations wich are less than lower fence and greater than upper fence\n",
    "df_day = df_day.drop(df_day[df_day.loc[:,i] < min].index)\n",
    "df_day = df_day.drop(df_day[df_day.loc[:,i] > max].index)"
   ]
  },
  {
   "cell_type": "code",
   "execution_count": 46,
   "metadata": {},
   "outputs": [
    {
     "data": {
      "text/plain": [
       "(718, 12)"
      ]
     },
     "execution_count": 46,
     "metadata": {},
     "output_type": "execute_result"
    }
   ],
   "source": [
    "df_day.shape"
   ]
  },
  {
   "cell_type": "code",
   "execution_count": 47,
   "metadata": {},
   "outputs": [
    {
     "data": {
      "text/plain": [
       "Text(0.5, 0.98, 'hum')"
      ]
     },
     "execution_count": 47,
     "metadata": {},
     "output_type": "execute_result"
    },
    {
     "data": {
      "image/png": "[encoded data removed]",
      "text/plain": [
       "<Figure size 432x288 with 1 Axes>"
      ]
     },
     "metadata": {
      "needs_background": "light"
     },
     "output_type": "display_data"
    }
   ],
   "source": [
    "# after removing outliers now we have 718 observations\n",
    "# boxplots after removing outliers\n",
    "# plot for hum variable\n",
    "plt.boxplot(df_day['hum'])\n",
    "plt.suptitle('hum')"
   ]
  },
  {
   "cell_type": "code",
   "execution_count": 48,
   "metadata": {},
   "outputs": [
    {
     "data": {
      "text/plain": [
       "Text(0.5, 0.98, 'windspeed')"
      ]
     },
     "execution_count": 48,
     "metadata": {},
     "output_type": "execute_result"
    },
    {
     "data": {
      "image/png": "[encoded data removed]",
      "text/plain": [
       "<Figure size 432x288 with 1 Axes>"
      ]
     },
     "metadata": {
      "needs_background": "light"
     },
     "output_type": "display_data"
    }
   ],
   "source": [
    "# plot for windspeed \n",
    "plt.boxplot(df_day['windspeed'])\n",
    "plt.suptitle('windspeed')"
   ]
  },
  {
   "cell_type": "code",
   "execution_count": 49,
   "metadata": {},
   "outputs": [
    {
     "data": {
      "text/plain": [
       "<matplotlib.axes._subplots.AxesSubplot at 0x1ba092c5898>"
      ]
     },
     "execution_count": 49,
     "metadata": {},
     "output_type": "execute_result"
    },
    {
     "data": {
      "image/png": "[encoded data removed]",
      "text/plain": [
       "<Figure size 576x432 with 2 Axes>"
      ]
     },
     "metadata": {
      "needs_background": "light"
     },
     "output_type": "display_data"
    }
   ],
   "source": [
    "################# FEATURE SELECTION ###############\n",
    "# Already we hahve removed some features which are not providing much information.\n",
    "# Now we will select/remove the rest feature based on their importance.\n",
    "# selection of numerical features based on correlation plot\n",
    "# heatmap or correlation plot\n",
    "f, ax = plt.subplots(figsize=(8,6))\n",
    "\n",
    "#Generate correlation matrix\n",
    "corr_mat = df_day.corr()\n",
    "#Plot using seaborn library\n",
    "sns.heatmap(corr_mat, mask=np.zeros_like(corr_mat, dtype=np.bool), cmap=sns.diverging_palette(220, 10, as_cmap=True),square=True, ax=ax)\n"
   ]
  },
  {
   "cell_type": "code",
   "execution_count": 50,
   "metadata": {},
   "outputs": [],
   "source": [
    "# There is  high correlation between temp and atemp so we can remove one of them from the data set\n",
    "# we will remove atemp from the data set\n",
    "day_fet = df_day.drop(['atemp'],axis =1)"
   ]
  },
  {
   "cell_type": "code",
   "execution_count": 51,
   "metadata": {},
   "outputs": [],
   "source": [
    "# selecion of catagorical Features\n",
    "# chi-square test of independence\n",
    "#cat_names = [\"season\",\"day\",\"mnth\",\"weekday\",\"workingday\",\"weathersit\"]\n",
    "#for i in cat_names:\n",
    " #   print(i)\n",
    "  #  chi2, p , dof, ex = chi2_contingency(pd.crosstab(df_day['cnt'],df_day[i]))\n",
    "   # print(p)"
   ]
  },
  {
   "cell_type": "code",
   "execution_count": 52,
   "metadata": {},
   "outputs": [],
   "source": [
    "# Since our target variable is a numerical variable, we cant use 'cnt' with catagorical variable for chi_square test."
   ]
  },
  {
   "cell_type": "code",
   "execution_count": 53,
   "metadata": {},
   "outputs": [
    {
     "data": {
      "text/plain": [
       "Index(['dteday', 'season', 'yr', 'mnth', 'weekday', 'workingday', 'weathersit',\n",
       "       'temp', 'hum', 'windspeed', 'cnt'],\n",
       "      dtype='object')"
      ]
     },
     "execution_count": 53,
     "metadata": {},
     "output_type": "execute_result"
    }
   ],
   "source": [
    "day_fet.columns\n",
    "#day_fet.shape"
   ]
  },
  {
   "cell_type": "code",
   "execution_count": 54,
   "metadata": {},
   "outputs": [],
   "source": [
    "# After selecting relevent features we have 11 features one is the target variable and rest are independent variables"
   ]
  },
  {
   "cell_type": "code",
   "execution_count": 55,
   "metadata": {},
   "outputs": [],
   "source": [
    "############## Feature scalling #############\n",
    "# All features are already given in normalised form so we need not to perform feature scaling"
   ]
  },
  {
   "cell_type": "code",
   "execution_count": 56,
   "metadata": {},
   "outputs": [],
   "source": [
    "############## MODEL DEVELOPEMENT #######################\n",
    "# before developing model we need to split the train and test data\n",
    "from sklearn.model_selection import train_test_split\n",
    "train, test = train_test_split(day_fet, test_size = 0.25)"
   ]
  },
  {
   "cell_type": "code",
   "execution_count": 57,
   "metadata": {},
   "outputs": [
    {
     "data": {
      "text/plain": [
       "(538, 11)"
      ]
     },
     "execution_count": 57,
     "metadata": {},
     "output_type": "execute_result"
    }
   ],
   "source": [
    "train.shape"
   ]
  },
  {
   "cell_type": "code",
   "execution_count": 58,
   "metadata": {
    "scrolled": false
   },
   "outputs": [
    {
     "name": "stdout",
     "output_type": "stream",
     "text": [
      "DecisionTreeRegressor(criterion='mse', max_depth=10, max_features=None,\n",
      "                      max_leaf_nodes=None, min_impurity_decrease=0.0,\n",
      "                      min_impurity_split=None, min_samples_leaf=1,\n",
      "                      min_samples_split=2, min_weight_fraction_leaf=0.0,\n",
      "                      presort=False, random_state=None, splitter='best')\n"
     ]
    }
   ],
   "source": [
    "###########Decision tree regession(C50)###########\n",
    "#importing library for decision tree regression\n",
    "from sklearn.tree import DecisionTreeRegressor \n",
    "fit_DT = DecisionTreeRegressor(max_depth = 10).fit(train.iloc[:,0:10],train.iloc[:,10])\n",
    "print(fit_DT)\n",
    "# Apply model on test data\n",
    "prediction_DT = fit_DT.predict(test.iloc[:,0:10])\n",
    "#print(prediction_DT)"
   ]
  },
  {
   "cell_type": "code",
   "execution_count": 60,
   "metadata": {},
   "outputs": [],
   "source": [
    "#calculating MAPE for decision tree regression\n",
    "#defining MAPE function\n",
    "def MAPE(y_true, y_pred): \n",
    "    mape = np.mean(np.abs((y_true - y_pred) / y_true))*100\n",
    "    return mape\n",
    "#MAPE for decision tree regression\n",
    "MAPE(test.iloc[:,10], prediction_DT)"
   ]
  },
  {
   "cell_type": "code",
   "execution_count": 61,
   "metadata": {},
   "outputs": [],
   "source": [
    "# Error is 18.441166136150585"
   ]
  },
  {
   "cell_type": "code",
   "execution_count": 62,
   "metadata": {},
   "outputs": [
    {
     "name": "stdout",
     "output_type": "stream",
     "text": [
      "158739986.98777837\n",
      "881888.816598769\n",
      "939.0893549597764\n"
     ]
    }
   ],
   "source": [
    "### Calculation of RMSE - root mean square error for DT_Regression\n",
    "#RSS - Residual Sum \n",
    "RSS= ((test.iloc[:,10]-prediction_DT)**2).sum()\n",
    "print(RSS)\n",
    "\n",
    "MSE = np.mean((test.iloc[:,10]-prediction_DT)**2)\n",
    "print(MSE)\n",
    "\n",
    "#RMSE\n",
    "RMSE=np.sqrt(MSE)\n",
    "print(RMSE)"
   ]
  },
  {
   "cell_type": "code",
   "execution_count": 63,
   "metadata": {},
   "outputs": [],
   "source": [
    "################################Random forest ###########################3\n",
    "model_RF = RandomForestRegressor(n_estimators = 500).fit(train.iloc[:,0:10], train.iloc[:,10])\n",
    "RF_Predictions = model_RF.predict(test.iloc[:,0:10])"
   ]
  },
  {
   "cell_type": "code",
   "execution_count": 64,
   "metadata": {},
   "outputs": [
    {
     "data": {
      "text/plain": [
       "13.91582452920711"
      ]
     },
     "execution_count": 64,
     "metadata": {},
     "output_type": "execute_result"
    }
   ],
   "source": [
    "# Mape for Random forest\n",
    "MAPE(test.iloc[:,10],RF_Predictions)"
   ]
  },
  {
   "cell_type": "code",
   "execution_count": 65,
   "metadata": {},
   "outputs": [
    {
     "name": "stdout",
     "output_type": "stream",
     "text": [
      "79893491.043304\n",
      "443852.7280183552\n",
      "666.2227315383011\n"
     ]
    }
   ],
   "source": [
    "### Calculatio of RMSE - root mean square error for Random Forest\n",
    "#RSS - Residual Sum \n",
    "RSS= ((test.iloc[:,10]-RF_Predictions)**2).sum()\n",
    "print(RSS)\n",
    "\n",
    "MSE = np.mean((test.iloc[:,10]-RF_Predictions)**2)\n",
    "print(MSE)\n",
    "\n",
    "#RMSE\n",
    "RMSE=np.sqrt(MSE)\n",
    "print(RMSE)"
   ]
  },
  {
   "cell_type": "code",
   "execution_count": 66,
   "metadata": {},
   "outputs": [
    {
     "data": {
      "text/html": [
       "<table class=\"simpletable\">\n",
       "<caption>OLS Regression Results</caption>\n",
       "<tr>\n",
       "  <th>Dep. Variable:</th>           <td>cnt</td>       <th>  R-squared (uncentered):</th>      <td>   0.966</td>\n",
       "</tr>\n",
       "<tr>\n",
       "  <th>Model:</th>                   <td>OLS</td>       <th>  Adj. R-squared (uncentered):</th> <td>   0.966</td>\n",
       "</tr>\n",
       "<tr>\n",
       "  <th>Method:</th>             <td>Least Squares</td>  <th>  F-statistic:       </th>          <td>   1511.</td>\n",
       "</tr>\n",
       "<tr>\n",
       "  <th>Date:</th>             <td>Mon, 21 Oct 2019</td> <th>  Prob (F-statistic):</th>           <td>  0.00</td> \n",
       "</tr>\n",
       "<tr>\n",
       "  <th>Time:</th>                 <td>16:33:33</td>     <th>  Log-Likelihood:    </th>          <td> -4425.1</td>\n",
       "</tr>\n",
       "<tr>\n",
       "  <th>No. Observations:</th>      <td>   538</td>      <th>  AIC:               </th>          <td>   8870.</td>\n",
       "</tr>\n",
       "<tr>\n",
       "  <th>Df Residuals:</th>          <td>   528</td>      <th>  BIC:               </th>          <td>   8913.</td>\n",
       "</tr>\n",
       "<tr>\n",
       "  <th>Df Model:</th>              <td>    10</td>      <th>                     </th>              <td> </td>   \n",
       "</tr>\n",
       "<tr>\n",
       "  <th>Covariance Type:</th>      <td>nonrobust</td>    <th>                     </th>              <td> </td>   \n",
       "</tr>\n",
       "</table>\n",
       "<table class=\"simpletable\">\n",
       "<tr>\n",
       "       <td></td>         <th>coef</th>     <th>std err</th>      <th>t</th>      <th>P>|t|</th>  <th>[0.025</th>    <th>0.975]</th>  \n",
       "</tr>\n",
       "<tr>\n",
       "  <th>dteday</th>     <td>   -3.4582</td> <td>    4.361</td> <td>   -0.793</td> <td> 0.428</td> <td>  -12.025</td> <td>    5.108</td>\n",
       "</tr>\n",
       "<tr>\n",
       "  <th>season</th>     <td>  589.5715</td> <td>   64.721</td> <td>    9.109</td> <td> 0.000</td> <td>  462.429</td> <td>  716.714</td>\n",
       "</tr>\n",
       "<tr>\n",
       "  <th>yr</th>         <td> 2147.8017</td> <td>   78.136</td> <td>   27.488</td> <td> 0.000</td> <td> 1994.307</td> <td> 2301.296</td>\n",
       "</tr>\n",
       "<tr>\n",
       "  <th>mnth</th>       <td>  -47.0441</td> <td>   20.550</td> <td>   -2.289</td> <td> 0.022</td> <td>  -87.414</td> <td>   -6.674</td>\n",
       "</tr>\n",
       "<tr>\n",
       "  <th>weekday</th>    <td>   97.9052</td> <td>   19.385</td> <td>    5.051</td> <td> 0.000</td> <td>   59.825</td> <td>  135.986</td>\n",
       "</tr>\n",
       "<tr>\n",
       "  <th>workingday</th> <td>  220.5790</td> <td>   83.575</td> <td>    2.639</td> <td> 0.009</td> <td>   56.398</td> <td>  384.760</td>\n",
       "</tr>\n",
       "<tr>\n",
       "  <th>weathersit</th> <td> -759.6093</td> <td>   92.659</td> <td>   -8.198</td> <td> 0.000</td> <td> -941.636</td> <td> -577.583</td>\n",
       "</tr>\n",
       "<tr>\n",
       "  <th>temp</th>       <td> 5339.5336</td> <td>  226.692</td> <td>   23.554</td> <td> 0.000</td> <td> 4894.205</td> <td> 5784.862</td>\n",
       "</tr>\n",
       "<tr>\n",
       "  <th>hum</th>        <td>  602.1418</td> <td>  307.547</td> <td>    1.958</td> <td> 0.051</td> <td>   -2.023</td> <td> 1206.307</td>\n",
       "</tr>\n",
       "<tr>\n",
       "  <th>windspeed</th>  <td> -599.9124</td> <td>  472.291</td> <td>   -1.270</td> <td> 0.205</td> <td>-1527.713</td> <td>  327.888</td>\n",
       "</tr>\n",
       "</table>\n",
       "<table class=\"simpletable\">\n",
       "<tr>\n",
       "  <th>Omnibus:</th>       <td>67.938</td> <th>  Durbin-Watson:     </th> <td>   2.092</td>\n",
       "</tr>\n",
       "<tr>\n",
       "  <th>Prob(Omnibus):</th> <td> 0.000</td> <th>  Jarque-Bera (JB):  </th> <td> 126.527</td>\n",
       "</tr>\n",
       "<tr>\n",
       "  <th>Skew:</th>          <td>-0.753</td> <th>  Prob(JB):          </th> <td>3.35e-28</td>\n",
       "</tr>\n",
       "<tr>\n",
       "  <th>Kurtosis:</th>      <td> 4.837</td> <th>  Cond. No.          </th> <td>    234.</td>\n",
       "</tr>\n",
       "</table><br/><br/>Warnings:<br/>[1] Standard Errors assume that the covariance matrix of the errors is correctly specified."
      ],
      "text/plain": [
       "<class 'statsmodels.iolib.summary.Summary'>\n",
       "\"\"\"\n",
       "                                 OLS Regression Results                                \n",
       "=======================================================================================\n",
       "Dep. Variable:                    cnt   R-squared (uncentered):                   0.966\n",
       "Model:                            OLS   Adj. R-squared (uncentered):              0.966\n",
       "Method:                 Least Squares   F-statistic:                              1511.\n",
       "Date:                Mon, 21 Oct 2019   Prob (F-statistic):                        0.00\n",
       "Time:                        16:33:33   Log-Likelihood:                         -4425.1\n",
       "No. Observations:                 538   AIC:                                      8870.\n",
       "Df Residuals:                     528   BIC:                                      8913.\n",
       "Df Model:                          10                                                  \n",
       "Covariance Type:            nonrobust                                                  \n",
       "==============================================================================\n",
       "                 coef    std err          t      P>|t|      [0.025      0.975]\n",
       "------------------------------------------------------------------------------\n",
       "dteday        -3.4582      4.361     -0.793      0.428     -12.025       5.108\n",
       "season       589.5715     64.721      9.109      0.000     462.429     716.714\n",
       "yr          2147.8017     78.136     27.488      0.000    1994.307    2301.296\n",
       "mnth         -47.0441     20.550     -2.289      0.022     -87.414      -6.674\n",
       "weekday       97.9052     19.385      5.051      0.000      59.825     135.986\n",
       "workingday   220.5790     83.575      2.639      0.009      56.398     384.760\n",
       "weathersit  -759.6093     92.659     -8.198      0.000    -941.636    -577.583\n",
       "temp        5339.5336    226.692     23.554      0.000    4894.205    5784.862\n",
       "hum          602.1418    307.547      1.958      0.051      -2.023    1206.307\n",
       "windspeed   -599.9124    472.291     -1.270      0.205   -1527.713     327.888\n",
       "==============================================================================\n",
       "Omnibus:                       67.938   Durbin-Watson:                   2.092\n",
       "Prob(Omnibus):                  0.000   Jarque-Bera (JB):              126.527\n",
       "Skew:                          -0.753   Prob(JB):                     3.35e-28\n",
       "Kurtosis:                       4.837   Cond. No.                         234.\n",
       "==============================================================================\n",
       "\n",
       "Warnings:\n",
       "[1] Standard Errors assume that the covariance matrix of the errors is correctly specified.\n",
       "\"\"\""
      ]
     },
     "execution_count": 66,
     "metadata": {},
     "output_type": "execute_result"
    }
   ],
   "source": [
    "############# Linear Regression ############\n",
    "#import  linear regreesion  \n",
    "import statsmodels.api as sm\n",
    "\n",
    "linear_reg = sm.OLS(train.iloc[:,10],(train.iloc[:,0:10]).astype(float)).fit()\n",
    "\n",
    "#Summary of model\n",
    "linear_reg.summary()\n"
   ]
  },
  {
   "cell_type": "code",
   "execution_count": 67,
   "metadata": {},
   "outputs": [],
   "source": [
    "# Predict the model\n",
    "predict_LR = linear_reg.predict(test.iloc[:,0:10])\n",
    "#print(predict_LR)"
   ]
  },
  {
   "cell_type": "code",
   "execution_count": 69,
   "metadata": {},
   "outputs": [],
   "source": [
    "#Evaluation of LR model using MAPE\n",
    "MAPE(test.iloc[:,10],predict_LR)"
   ]
  },
  {
   "cell_type": "code",
   "execution_count": 72,
   "metadata": {},
   "outputs": [
    {
     "name": "stdout",
     "output_type": "stream",
     "text": [
      "134855552.31580314\n",
      "749197.512865573\n",
      "865.5619636199208\n"
     ]
    }
   ],
   "source": [
    "### Calculatio of RMSE - root mean square error for Linear Regression\n",
    "#RSS - Residual Sum \n",
    "RSS= ((test.iloc[:,10]-predict_LR)**2).sum()\n",
    "print(RSS)\n",
    "\n",
    "MSE = np.mean((test.iloc[:,10]-predict_LR)**2)\n",
    "print(MSE)\n",
    "\n",
    "#RMSE\n",
    "RMSE=np.sqrt(MSE)\n",
    "print(RMSE)"
   ]
  },
  {
   "cell_type": "code",
   "execution_count": null,
   "metadata": {},
   "outputs": [],
   "source": [
    "#conclusion \n",
    "# Random Forest is the best model for the dataset."
   ]
  },
  {
   "cell_type": "code",
   "execution_count": null,
   "metadata": {},
   "outputs": [],
   "source": []
  }
 ],
 "metadata": {
  "kernelspec": {
   "display_name": "Python 3",
   "language": "python",
   "name": "python3"
  },
  "language_info": {
   "codemirror_mode": {
    "name": "ipython",
    "version": 3
   },
   "file_extension": ".py",
   "mimetype": "text/x-python",
   "name": "python",
   "nbconvert_exporter": "python",
   "pygments_lexer": "ipython3",
   "version": "3.7.3"
  }
 },
 "nbformat": 4,
 "nbformat_minor": 2
}
